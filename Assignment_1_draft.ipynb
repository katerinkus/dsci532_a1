{
 "cells": [
  {
   "cell_type": "code",
   "execution_count": 1,
   "id": "3465915e-06ca-4754-8751-18684437f20e",
   "metadata": {},
   "outputs": [
    {
     "data": {
      "text/plain": [
       "DataTransformerRegistry.enable('data_server')"
      ]
     },
     "execution_count": 1,
     "metadata": {},
     "output_type": "execute_result"
    }
   ],
   "source": [
    "import altair as alt\n",
    "import pandas as pd\n",
    "alt.data_transformers.enable('data_server')"
   ]
  },
  {
   "cell_type": "code",
   "execution_count": 2,
   "id": "1a34bc9f-d46c-4d52-8d31-5cb3d3a80550",
   "metadata": {},
   "outputs": [],
   "source": [
    "tree_df = pd.read_csv(\"data/street-trees.csv\", sep=\";\")\n",
    "cherry_df = tree_df.loc[tree_df[\"GENUS_NAME\"] == \"PRUNUS\"].dropna(subset=[\"DIAMETER\"])"
   ]
  },
  {
   "cell_type": "code",
   "execution_count": 15,
   "id": "e66507a4-7379-47f0-9445-322f6e2621ee",
   "metadata": {},
   "outputs": [],
   "source": [
    "cherry_df[\"DIAMETER_CM\"] = cherry_df[\"DIAMETER\"] * 2.54\n",
    "cherry_filt = cherry_df.loc[cherry_df[\"DIAMETER_CM\"] < 150]"
   ]
  },
  {
   "cell_type": "code",
   "execution_count": 16,
   "id": "060c99df-e988-458a-8f3a-f13e84cfdff8",
   "metadata": {},
   "outputs": [],
   "source": [
    "cherry_plot = alt.Chart(cherry_df).mark_bar().encode(y=\"count()\", x=\"NEIGHBOURHOOD_NAME\")"
   ]
  },
  {
   "cell_type": "code",
   "execution_count": 5,
   "id": "af61abf5-f2b4-442c-824e-c8f2603513ea",
   "metadata": {},
   "outputs": [
    {
     "data": {
      "text/html": [
       "\n",
       "<div id=\"altair-viz-e073df51823649fba409f590d4df5b81\"></div>\n",
       "<script type=\"text/javascript\">\n",
       "  (function(spec, embedOpt){\n",
       "    let outputDiv = document.currentScript.previousElementSibling;\n",
       "    if (outputDiv.id !== \"altair-viz-e073df51823649fba409f590d4df5b81\") {\n",
       "      outputDiv = document.getElementById(\"altair-viz-e073df51823649fba409f590d4df5b81\");\n",
       "    }\n",
       "    const paths = {\n",
       "      \"vega\": \"https://cdn.jsdelivr.net/npm//vega@5?noext\",\n",
       "      \"vega-lib\": \"https://cdn.jsdelivr.net/npm//vega-lib?noext\",\n",
       "      \"vega-lite\": \"https://cdn.jsdelivr.net/npm//vega-lite@4.8.1?noext\",\n",
       "      \"vega-embed\": \"https://cdn.jsdelivr.net/npm//vega-embed@6?noext\",\n",
       "    };\n",
       "\n",
       "    function loadScript(lib) {\n",
       "      return new Promise(function(resolve, reject) {\n",
       "        var s = document.createElement('script');\n",
       "        s.src = paths[lib];\n",
       "        s.async = true;\n",
       "        s.onload = () => resolve(paths[lib]);\n",
       "        s.onerror = () => reject(`Error loading script: ${paths[lib]}`);\n",
       "        document.getElementsByTagName(\"head\")[0].appendChild(s);\n",
       "      });\n",
       "    }\n",
       "\n",
       "    function showError(err) {\n",
       "      outputDiv.innerHTML = `<div class=\"error\" style=\"color:red;\">${err}</div>`;\n",
       "      throw err;\n",
       "    }\n",
       "\n",
       "    function displayChart(vegaEmbed) {\n",
       "      vegaEmbed(outputDiv, spec, embedOpt)\n",
       "        .catch(err => showError(`Javascript Error: ${err.message}<br>This usually means there's a typo in your chart specification. See the javascript console for the full traceback.`));\n",
       "    }\n",
       "\n",
       "    if(typeof define === \"function\" && define.amd) {\n",
       "      requirejs.config({paths});\n",
       "      require([\"vega-embed\"], displayChart, err => showError(`Error loading script: ${err.message}`));\n",
       "    } else if (typeof vegaEmbed === \"function\") {\n",
       "      displayChart(vegaEmbed);\n",
       "    } else {\n",
       "      loadScript(\"vega\")\n",
       "        .then(() => loadScript(\"vega-lite\"))\n",
       "        .then(() => loadScript(\"vega-embed\"))\n",
       "        .catch(showError)\n",
       "        .then(() => displayChart(vegaEmbed));\n",
       "    }\n",
       "  })({\"config\": {\"view\": {\"continuousWidth\": 400, \"continuousHeight\": 300}}, \"data\": {\"url\": \"http://localhost:15717/4bd7a814906ae9c048405b734b609387.json\"}, \"mark\": \"bar\", \"encoding\": {\"x\": {\"type\": \"nominal\", \"field\": \"NEIGHBOURHOOD_NAME\"}, \"y\": {\"type\": \"quantitative\", \"aggregate\": \"count\"}}, \"$schema\": \"https://vega.github.io/schema/vega-lite/v4.8.1.json\"}, {\"mode\": \"vega-lite\"});\n",
       "</script>"
      ],
      "text/plain": [
       "alt.Chart(...)"
      ]
     },
     "execution_count": 5,
     "metadata": {},
     "output_type": "execute_result"
    }
   ],
   "source": [
    "cherry_plot"
   ]
  },
  {
   "cell_type": "code",
   "execution_count": 69,
   "id": "9207c500-8a7a-4de3-b1ac-c5e8e72a0f35",
   "metadata": {},
   "outputs": [
    {
     "data": {
      "text/html": [
       "\n",
       "<div id=\"altair-viz-cd9e6144ae214f3d8b05f367f52b3dc9\"></div>\n",
       "<script type=\"text/javascript\">\n",
       "  (function(spec, embedOpt){\n",
       "    let outputDiv = document.currentScript.previousElementSibling;\n",
       "    if (outputDiv.id !== \"altair-viz-cd9e6144ae214f3d8b05f367f52b3dc9\") {\n",
       "      outputDiv = document.getElementById(\"altair-viz-cd9e6144ae214f3d8b05f367f52b3dc9\");\n",
       "    }\n",
       "    const paths = {\n",
       "      \"vega\": \"https://cdn.jsdelivr.net/npm//vega@5?noext\",\n",
       "      \"vega-lib\": \"https://cdn.jsdelivr.net/npm//vega-lib?noext\",\n",
       "      \"vega-lite\": \"https://cdn.jsdelivr.net/npm//vega-lite@4.8.1?noext\",\n",
       "      \"vega-embed\": \"https://cdn.jsdelivr.net/npm//vega-embed@6?noext\",\n",
       "    };\n",
       "\n",
       "    function loadScript(lib) {\n",
       "      return new Promise(function(resolve, reject) {\n",
       "        var s = document.createElement('script');\n",
       "        s.src = paths[lib];\n",
       "        s.async = true;\n",
       "        s.onload = () => resolve(paths[lib]);\n",
       "        s.onerror = () => reject(`Error loading script: ${paths[lib]}`);\n",
       "        document.getElementsByTagName(\"head\")[0].appendChild(s);\n",
       "      });\n",
       "    }\n",
       "\n",
       "    function showError(err) {\n",
       "      outputDiv.innerHTML = `<div class=\"error\" style=\"color:red;\">${err}</div>`;\n",
       "      throw err;\n",
       "    }\n",
       "\n",
       "    function displayChart(vegaEmbed) {\n",
       "      vegaEmbed(outputDiv, spec, embedOpt)\n",
       "        .catch(err => showError(`Javascript Error: ${err.message}<br>This usually means there's a typo in your chart specification. See the javascript console for the full traceback.`));\n",
       "    }\n",
       "\n",
       "    if(typeof define === \"function\" && define.amd) {\n",
       "      requirejs.config({paths});\n",
       "      require([\"vega-embed\"], displayChart, err => showError(`Error loading script: ${err.message}`));\n",
       "    } else if (typeof vegaEmbed === \"function\") {\n",
       "      displayChart(vegaEmbed);\n",
       "    } else {\n",
       "      loadScript(\"vega\")\n",
       "        .then(() => loadScript(\"vega-lite\"))\n",
       "        .then(() => loadScript(\"vega-embed\"))\n",
       "        .catch(showError)\n",
       "        .then(() => displayChart(vegaEmbed));\n",
       "    }\n",
       "  })({\"config\": {\"view\": {\"continuousWidth\": 400, \"continuousHeight\": 300}}, \"data\": {\"url\": \"http://localhost:15717/d82e85edb06d4dfcd09efccdd9ece2f5.json\"}, \"mark\": {\"type\": \"area\", \"interpolate\": \"monotone\", \"line\": {\"color\": \"#a75ea8\"}, \"opacity\": 0.4}, \"encoding\": {\"color\": {\"type\": \"nominal\", \"field\": \"NEIGHBOURHOOD_NAME\", \"scale\": {\"domain\": [\"WEST END\", \"DOWNTOWN\"], \"range\": [\"#ae68d4\", \"#6993db\"]}}, \"x\": {\"type\": \"quantitative\", \"field\": \"DIAMETER\", \"scale\": {\"nice\": false}, \"title\": \"Tree diameter (cm)\"}, \"y\": {\"type\": \"quantitative\", \"axis\": {\"labels\": false}, \"field\": \"density\", \"title\": \"Density\"}}, \"title\": \"Cherry tree diameter distribution\", \"transform\": [{\"density\": \"DIAMETER_CM\", \"groupby\": [\"NEIGHBOURHOOD_NAME\"], \"as\": [\"DIAMETER\", \"density\"]}], \"$schema\": \"https://vega.github.io/schema/vega-lite/v4.8.1.json\"}, {\"mode\": \"vega-lite\"});\n",
       "</script>"
      ],
      "text/plain": [
       "alt.Chart(...)"
      ]
     },
     "execution_count": 69,
     "metadata": {},
     "output_type": "execute_result"
    }
   ],
   "source": []
  },
  {
   "cell_type": "code",
   "execution_count": 71,
   "id": "0692948a-3f04-4237-bee7-30155c5085f1",
   "metadata": {},
   "outputs": [],
   "source": [
    "def plot_altair():\n",
    "    chart = alt.Chart(\n",
    "        cherry_filt.query(\"NEIGHBOURHOOD_NAME == 'WEST END' | NEIGHBOURHOOD_NAME == 'DOWNTOWN'\"), \n",
    "        title=\"Cherry tree diameter distribution\").transform_density(\n",
    "        'DIAMETER_CM',\n",
    "        groupby=['NEIGHBOURHOOD_NAME'],\n",
    "        as_=['DIAMETER', 'density']).mark_area(interpolate='monotone', opacity=0.4, line=({'color':'#a75ea8'})).encode(\n",
    "        alt.X('DIAMETER', title = 'Tree diameter (cm)', scale=alt.Scale(nice=False)),\n",
    "        alt.Y('density:Q', title=\"Density\", axis=alt.Axis(labels=False)),\n",
    "        alt.Color('NEIGHBOURHOOD_NAME',  scale=alt.Scale(domain=['WEST END', 'DOWNTOWN'], range=['#ae68d4', '#6993db']))\n",
    "    )\n",
    "    return chart.to_html()"
   ]
  },
  {
   "cell_type": "code",
   "execution_count": null,
   "id": "a6c02dda-327f-468a-a94a-a00366c0f145",
   "metadata": {},
   "outputs": [],
   "source": []
  }
 ],
 "metadata": {
  "kernelspec": {
   "display_name": "Python [conda env:531]",
   "language": "python",
   "name": "conda-env-531-py"
  },
  "language_info": {
   "codemirror_mode": {
    "name": "ipython",
    "version": 3
   },
   "file_extension": ".py",
   "mimetype": "text/x-python",
   "name": "python",
   "nbconvert_exporter": "python",
   "pygments_lexer": "ipython3",
   "version": "3.9.7"
  }
 },
 "nbformat": 4,
 "nbformat_minor": 5
}
